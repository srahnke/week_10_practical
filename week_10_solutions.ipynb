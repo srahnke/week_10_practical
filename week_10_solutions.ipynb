{
 "cells": [
  {
   "cell_type": "code",
   "execution_count": null,
   "id": "43f6d7d7",
   "metadata": {},
   "outputs": [],
   "source": [
    "#install.packages(\"tidyverse\")\n",
    "#install.packages(\"dplyr\")\n",
    "#install.packages(\"ggplot2\")\n",
    "#install.packages(\"factoextra\")\n",
    "\n",
    "#library(factoextra)\n",
    "library(readr)\n",
    "library(dplyr)\n",
    "library(ggplot2)"
   ]
  },
  {
   "cell_type": "markdown",
   "id": "7de61552",
   "metadata": {},
   "source": [
    "* Here you'll generate your own data to make sure you understand what PCA is doing\n",
    "\n",
    "* Generate 4 variables W, X, Y, and Z\n",
    "\n",
    "1. X and Y should not be correlated\n",
    "  * They are independent\n",
    "\n",
    "2. W and X should have a mild correlation ( < 0.5)\n",
    "\n",
    "3. Y and Z should have a mild correlation ( > 0.9)\n",
    "\n",
    "4. Generate a variable outcome as a linear combination of W, X, Y, and Z"
   ]
  },
  {
   "cell_type": "code",
   "execution_count": 33,
   "id": "d20018bf",
   "metadata": {},
   "outputs": [
    {
     "data": {
      "text/html": [
       "<table>\n",
       "<thead><tr><th scope=col>x</th><th scope=col>y</th><th scope=col>z</th><th scope=col>w</th></tr></thead>\n",
       "<tbody>\n",
       "\t<tr><td>6.307837 </td><td> 2.028463</td><td> 2.465196</td><td> 7.386025</td></tr>\n",
       "\t<tr><td>5.038105 </td><td>-1.369397</td><td>-1.198513</td><td>10.316712</td></tr>\n",
       "\t<tr><td>1.300992 </td><td>-5.012703</td><td>-5.666778</td><td> 8.372310</td></tr>\n",
       "\t<tr><td>4.734473 </td><td> 1.606158</td><td> 1.798244</td><td> 4.026023</td></tr>\n",
       "\t<tr><td>2.602364 </td><td> 2.961934</td><td> 3.097761</td><td> 6.292458</td></tr>\n",
       "\t<tr><td>2.340517 </td><td>-1.389253</td><td>-1.559261</td><td> 7.283087</td></tr>\n",
       "</tbody>\n",
       "</table>\n"
      ],
      "text/latex": [
       "\\begin{tabular}{r|llll}\n",
       " x & y & z & w\\\\\n",
       "\\hline\n",
       "\t 6.307837  &  2.028463 &  2.465196 &  7.386025\\\\\n",
       "\t 5.038105  & -1.369397 & -1.198513 & 10.316712\\\\\n",
       "\t 1.300992  & -5.012703 & -5.666778 &  8.372310\\\\\n",
       "\t 4.734473  &  1.606158 &  1.798244 &  4.026023\\\\\n",
       "\t 2.602364  &  2.961934 &  3.097761 &  6.292458\\\\\n",
       "\t 2.340517  & -1.389253 & -1.559261 &  7.283087\\\\\n",
       "\\end{tabular}\n"
      ],
      "text/markdown": [
       "\n",
       "| x | y | z | w |\n",
       "|---|---|---|---|\n",
       "| 6.307837  |  2.028463 |  2.465196 |  7.386025 |\n",
       "| 5.038105  | -1.369397 | -1.198513 | 10.316712 |\n",
       "| 1.300992  | -5.012703 | -5.666778 |  8.372310 |\n",
       "| 4.734473  |  1.606158 |  1.798244 |  4.026023 |\n",
       "| 2.602364  |  2.961934 |  3.097761 |  6.292458 |\n",
       "| 2.340517  | -1.389253 | -1.559261 |  7.283087 |\n",
       "\n"
      ],
      "text/plain": [
       "  x        y         z         w        \n",
       "1 6.307837  2.028463  2.465196  7.386025\n",
       "2 5.038105 -1.369397 -1.198513 10.316712\n",
       "3 1.300992 -5.012703 -5.666778  8.372310\n",
       "4 4.734473  1.606158  1.798244  4.026023\n",
       "5 2.602364  2.961934  3.097761  6.292458\n",
       "6 2.340517 -1.389253 -1.559261  7.283087"
      ]
     },
     "metadata": {},
     "output_type": "display_data"
    },
    {
     "data": {
      "text/html": [
       "0.0794886077331757"
      ],
      "text/latex": [
       "0.0794886077331757"
      ],
      "text/markdown": [
       "0.0794886077331757"
      ],
      "text/plain": [
       "[1] 0.07948861"
      ]
     },
     "metadata": {},
     "output_type": "display_data"
    },
    {
     "data": {
      "text/html": [
       "0.268184205386149"
      ],
      "text/latex": [
       "0.268184205386149"
      ],
      "text/markdown": [
       "0.268184205386149"
      ],
      "text/plain": [
       "[1] 0.2681842"
      ]
     },
     "metadata": {},
     "output_type": "display_data"
    },
    {
     "data": {
      "text/html": [
       "0.996510964085134"
      ],
      "text/latex": [
       "0.996510964085134"
      ],
      "text/markdown": [
       "0.996510964085134"
      ],
      "text/plain": [
       "[1] 0.996511"
      ]
     },
     "metadata": {},
     "output_type": "display_data"
    }
   ],
   "source": [
    "set.seed(44)\n",
    "x = rnorm(30, 5, 2)\n",
    "w_noise = rnorm(30, 5, 2)\n",
    "w = 0.4*x + w_noise\n",
    "y = rnorm(30, 0, 2)\n",
    "z_noise = rnorm(30, 0, 0.2)\n",
    "z = 1.1*y + z_noise\n",
    "\n",
    "random_data = data.frame(x, y, z, w)\n",
    "head(random_data)\n",
    "\n",
    "\n",
    "cor(x,y)\n",
    "cor(x,w)\n",
    "cor(y,z)"
   ]
  },
  {
   "cell_type": "code",
   "execution_count": 10,
   "id": "bbe9d5d0",
   "metadata": {},
   "outputs": [
    {
     "ename": "ERROR",
     "evalue": "Error in ggplot(random_data, aes(x = x, y = w)): no se pudo encontrar la función \"ggplot\"\n",
     "output_type": "error",
     "traceback": [
      "Error in ggplot(random_data, aes(x = x, y = w)): no se pudo encontrar la función \"ggplot\"\nTraceback:\n"
     ]
    }
   ],
   "source": [
    "ggplot(random_data, aes(x=x,y=w))+\n",
    "geom_point()+\n",
    "geom_smooth(method = \"lm\", se = FALSE)"
   ]
  },
  {
   "cell_type": "code",
   "execution_count": 34,
   "id": "32c50ff9",
   "metadata": {},
   "outputs": [
    {
     "ename": "ERROR",
     "evalue": "Error in ggplot(random_data, aes(x = y, y = z)): no se pudo encontrar la función \"ggplot\"\n",
     "output_type": "error",
     "traceback": [
      "Error in ggplot(random_data, aes(x = y, y = z)): no se pudo encontrar la función \"ggplot\"\nTraceback:\n"
     ]
    }
   ],
   "source": [
    "ggplot(random_data, aes(x=y,y=z))+\n",
    "geom_point()+\n",
    "geom_smooth(method = \"lm\", se = FALSE)"
   ]
  },
  {
   "cell_type": "code",
   "execution_count": 97,
   "id": "5fed1728",
   "metadata": {},
   "outputs": [],
   "source": [
    "outcome = 1 + 1.2*w + 1.3*x + 1.4*y + 1.5*z"
   ]
  },
  {
   "cell_type": "code",
   "execution_count": 100,
   "id": "08ba6065",
   "metadata": {},
   "outputs": [
    {
     "data": {
      "text/html": [
       "0.996510964085134"
      ],
      "text/latex": [
       "0.996510964085134"
      ],
      "text/markdown": [
       "0.996510964085134"
      ],
      "text/plain": [
       "[1] 0.996511"
      ]
     },
     "metadata": {},
     "output_type": "display_data"
    }
   ],
   "source": [
    "cor(y,z)"
   ]
  },
  {
   "cell_type": "markdown",
   "id": "6c97b474",
   "metadata": {},
   "source": [
    "5. Model your outcome using W, X, Y, and Z.\n",
    "  * Do your results match your model params?"
   ]
  },
  {
   "cell_type": "code",
   "execution_count": 98,
   "id": "70a979bf",
   "metadata": {},
   "outputs": [
    {
     "name": "stderr",
     "output_type": "stream",
     "text": [
      "Warning message in summary.lm(lm(outcome ~ ., data = random_data)):\n",
      "“essentially perfect fit: summary may be unreliable”"
     ]
    },
    {
     "data": {
      "text/plain": [
       "\n",
       "Call:\n",
       "lm(formula = outcome ~ ., data = random_data)\n",
       "\n",
       "Residuals:\n",
       "       Min         1Q     Median         3Q        Max \n",
       "-1.198e-14 -1.116e-15  2.292e-16  1.612e-15  4.765e-15 \n",
       "\n",
       "Coefficients:\n",
       "             Estimate Std. Error   t value Pr(>|t|)    \n",
       "(Intercept) 1.000e+00  1.849e-15 5.410e+14   <2e-16 ***\n",
       "x           1.300e+00  2.730e-16 4.761e+15   <2e-16 ***\n",
       "y           1.400e+00  3.349e-15 4.181e+14   <2e-16 ***\n",
       "z           1.500e+00  3.001e-15 4.999e+14   <2e-16 ***\n",
       "w           1.200e+00  2.359e-16 5.087e+15   <2e-16 ***\n",
       "---\n",
       "Signif. codes:  0 ‘***’ 0.001 ‘**’ 0.01 ‘*’ 0.05 ‘.’ 0.1 ‘ ’ 1\n",
       "\n",
       "Residual standard error: 3.159e-15 on 25 degrees of freedom\n",
       "Multiple R-squared:      1,\tAdjusted R-squared:      1 \n",
       "F-statistic: 5.377e+31 on 4 and 25 DF,  p-value: < 2.2e-16\n"
      ]
     },
     "metadata": {},
     "output_type": "display_data"
    }
   ],
   "source": [
    "summary(lm(outcome ~ ., data=random_data))\n"
   ]
  },
  {
   "cell_type": "markdown",
   "id": "ab6754a8",
   "metadata": {},
   "source": [
    "6. Use PCA to reduce the dimensionality of your dataset\n",
    "  * Can you explain why you don't need to include the outcome?     "
   ]
  },
  {
   "cell_type": "code",
   "execution_count": 102,
   "id": "11852a27",
   "metadata": {},
   "outputs": [
    {
     "data": {
      "text/plain": [
       "Importance of components:\n",
       "                          PC1    PC2    PC3     PC4\n",
       "Standard deviation     1.4247 1.1114 0.8554 0.05746\n",
       "Proportion of Variance 0.5074 0.3088 0.1830 0.00083\n",
       "Cumulative Proportion  0.5074 0.8162 0.9992 1.00000"
      ]
     },
     "metadata": {},
     "output_type": "display_data"
    }
   ],
   "source": [
    "res_pca = prcomp(random_data, scale=TRUE)\n",
    "summary(res_pca)"
   ]
  },
  {
   "cell_type": "code",
   "execution_count": null,
   "id": "30df9a84",
   "metadata": {},
   "outputs": [],
   "source": []
  },
  {
   "cell_type": "markdown",
   "id": "8b851bc6",
   "metadata": {},
   "source": [
    "7. Use the bi-plot to visualize the contributions of your initial variables"
   ]
  },
  {
   "cell_type": "code",
   "execution_count": null,
   "id": "bdbf17f1",
   "metadata": {},
   "outputs": [],
   "source": [
    "fviz_pca_biplot(res_pca)"
   ]
  },
  {
   "cell_type": "markdown",
   "id": "aac6da7c",
   "metadata": {},
   "source": [
    "8. How efficient is the new lower-dimensional space representation at predicting the outcome?\n",
    "  * Do your results match your model params?"
   ]
  }
 ],
 "metadata": {
  "kernelspec": {
   "display_name": "R",
   "language": "R",
   "name": "ir"
  },
  "language_info": {
   "codemirror_mode": "r",
   "file_extension": ".r",
   "mimetype": "text/x-r-source",
   "name": "R",
   "pygments_lexer": "r",
   "version": "3.6.1"
  }
 },
 "nbformat": 4,
 "nbformat_minor": 5
}
